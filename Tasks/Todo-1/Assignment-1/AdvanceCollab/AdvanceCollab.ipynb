{
  "nbformat": 4,
  "nbformat_minor": 0,
  "metadata": {
    "colab": {
      "provenance": [],
      "mount_file_id": "1DcQs6wBYXoQvJelX428aNkGfEA3ueGRK",
      "authorship_tag": "ABX9TyOfQi4uMuWpyRiwK0XNLMbl",
      "include_colab_link": true
    },
    "kernelspec": {
      "name": "python3",
      "display_name": "Python 3"
    },
    "language_info": {
      "name": "python"
    }
  },
  "cells": [
    {
      "cell_type": "markdown",
      "metadata": {
        "id": "view-in-github",
        "colab_type": "text"
      },
      "source": [
        "<a href=\"https://colab.research.google.com/github/suriya-shanmugam/Data-Mining/blob/main/Tasks/Todo-1/Assignment-1/AdvanceCollab/AdvanceCollab.ipynb\" target=\"_parent\"><img src=\"https://colab.research.google.com/assets/colab-badge.svg\" alt=\"Open In Colab\"/></a>"
      ]
    },
    {
      "cell_type": "code",
      "execution_count": 4,
      "metadata": {
        "colab": {
          "base_uri": "https://localhost:8080/"
        },
        "id": "haLv2gF3-Rgh",
        "outputId": "39826dec-f863-4c12-e0da-c6c28556fb47"
      },
      "outputs": [
        {
          "output_type": "stream",
          "name": "stdout",
          "text": [
            "--2024-09-09 00:31:14--  https://store.pangaea.de/Publications/IizumiT_2019/gdhy_v1.2_v1.3_20190128.zip\n",
            "Resolving store.pangaea.de (store.pangaea.de)... 134.1.2.172\n",
            "Connecting to store.pangaea.de (store.pangaea.de)|134.1.2.172|:443... connected.\n",
            "HTTP request sent, awaiting response... 200 OK\n",
            "Length: 15989683 (15M) [application/zip]\n",
            "Saving to: ‘gdhy_v1.2_v1.3_20190128.zip.1’\n",
            "\n",
            "gdhy_v1.2_v1.3_2019 100%[===================>]  15.25M  5.74MB/s    in 2.7s    \n",
            "\n",
            "2024-09-09 00:31:17 (5.74 MB/s) - ‘gdhy_v1.2_v1.3_20190128.zip.1’ saved [15989683/15989683]\n",
            "\n"
          ]
        }
      ],
      "source": [
        "#Dowloading Data set using wget\n",
        "!wget https://store.pangaea.de/Publications/IizumiT_2019/gdhy_v1.2_v1.3_20190128.zip"
      ]
    },
    {
      "cell_type": "code",
      "source": [
        "# And unzip into current directory\n",
        "!unzip -j gdhy_v1.2_v1.3_20190128.zip"
      ],
      "metadata": {
        "colab": {
          "base_uri": "https://localhost:8080/"
        },
        "id": "IDsZBVdRMYcQ",
        "outputId": "f465ea1e-5f3f-4d2b-e315-779e63e29cf9"
      },
      "execution_count": 6,
      "outputs": [
        {
          "output_type": "stream",
          "name": "stdout",
          "text": [
            "Archive:  gdhy_v1.2_v1.3_20190128.zip\n",
            "  inflating: yield_1981.nc4          \n",
            "  inflating: yield_1982.nc4          \n",
            "  inflating: yield_1983.nc4          \n",
            "  inflating: yield_1984.nc4          \n",
            "  inflating: yield_1985.nc4          \n",
            "  inflating: yield_1986.nc4          \n",
            "  inflating: yield_1987.nc4          \n",
            "  inflating: yield_1988.nc4          \n",
            "  inflating: yield_1989.nc4          \n",
            "  inflating: yield_1990.nc4          \n",
            "  inflating: yield_1991.nc4          \n",
            "  inflating: yield_1992.nc4          \n",
            "  inflating: yield_1993.nc4          \n",
            "  inflating: yield_1994.nc4          \n",
            "  inflating: yield_1995.nc4          \n",
            "  inflating: yield_1996.nc4          \n",
            "  inflating: yield_1997.nc4          \n",
            "  inflating: yield_1998.nc4          \n",
            "  inflating: yield_1999.nc4          \n",
            "  inflating: yield_2000.nc4          \n",
            "  inflating: yield_2001.nc4          \n",
            "  inflating: yield_2002.nc4          \n",
            "  inflating: yield_2003.nc4          \n",
            "  inflating: yield_2004.nc4          \n",
            "  inflating: yield_2005.nc4          \n",
            "  inflating: yield_2006.nc4          \n",
            "  inflating: yield_2007.nc4          \n",
            "  inflating: yield_2008.nc4          \n",
            "  inflating: yield_2009.nc4          \n",
            "  inflating: yield_2010.nc4          \n",
            "  inflating: yield_2011.nc4          \n",
            "  inflating: yield_2012.nc4          \n",
            "  inflating: yield_2013.nc4          \n",
            "  inflating: yield_2014.nc4          \n",
            "  inflating: yield_2015.nc4          \n",
            "  inflating: yield_2016.nc4          \n",
            "replace yield_1981.nc4? [y]es, [n]o, [A]ll, [N]one, [r]ename: "
          ]
        }
      ]
    },
    {
      "cell_type": "code",
      "source": [
        "# connect to google drive with mount\n",
        "from google.colab import drive\n",
        "drive.mount('mount')"
      ],
      "metadata": {
        "colab": {
          "base_uri": "https://localhost:8080/"
        },
        "id": "5QJgymfWNB5n",
        "outputId": "4d3ea2fd-fdf1-4c6b-d750-4908252e2668"
      },
      "execution_count": 8,
      "outputs": [
        {
          "output_type": "stream",
          "name": "stdout",
          "text": [
            "Mounted at mount\n"
          ]
        }
      ]
    },
    {
      "cell_type": "code",
      "source": [
        "!gdown  --id  1nJmpJPare3yKwO5rSVfMVnhkatAe_Q_U"
      ],
      "metadata": {
        "colab": {
          "base_uri": "https://localhost:8080/"
        },
        "id": "xH3mMn2GNi2c",
        "outputId": "7b2c96e3-8650-4eba-a4ef-f806e63e6367"
      },
      "execution_count": 9,
      "outputs": [
        {
          "output_type": "stream",
          "name": "stdout",
          "text": [
            "/usr/local/lib/python3.10/dist-packages/gdown/__main__.py:132: FutureWarning: Option `--id` was deprecated in version 4.3.1 and will be removed in 5.0. You don't need to pass it anymore to use a file ID.\n",
            "  warnings.warn(\n",
            "Downloading...\n",
            "From: https://drive.google.com/uc?id=1nJmpJPare3yKwO5rSVfMVnhkatAe_Q_U\n",
            "To: /content/mobile_data_train.csv\n",
            "100% 122k/122k [00:00<00:00, 69.2MB/s]\n"
          ]
        }
      ]
    },
    {
      "cell_type": "code",
      "source": [
        "from google.colab import auth\n",
        "auth.authenticate_user()"
      ],
      "metadata": {
        "id": "PtOz5mSPQANT"
      },
      "execution_count": 14,
      "outputs": []
    },
    {
      "cell_type": "code",
      "source": [
        "#Get Files under this folder\n",
        "folder_id=\"1TGdggIIODBIaqbqWxzbFy3wAlVNh57KL\"\n",
        "'''list all ids of files directly under folder folder_id'''\n",
        "def folder_list(folder_id):\n",
        "  from googleapiclient.discovery import build\n",
        "  gdrive = build('drive', 'v3').files()\n",
        "  res = gdrive.list(q=\"'%s' in parents\" % folder_id).execute()\n",
        "  return [f['id'] for f in res['files']]\n",
        "folder_list(folder_id)"
      ],
      "metadata": {
        "colab": {
          "base_uri": "https://localhost:8080/"
        },
        "id": "oAZTNI60QIV7",
        "outputId": "1fbf355e-04ba-4426-d837-6593e73dc83e"
      },
      "execution_count": 15,
      "outputs": [
        {
          "output_type": "execute_result",
          "data": {
            "text/plain": [
              "['1DcQs6wBYXoQvJelX428aNkGfEA3ueGRK', '1dLxp8T_jvowQMh86QoyhSEcvqgLd7ODv']"
            ]
          },
          "metadata": {},
          "execution_count": 15
        }
      ]
    },
    {
      "cell_type": "code",
      "source": [
        "# install packages\n",
        "!pip install google-generativeai"
      ],
      "metadata": {
        "colab": {
          "base_uri": "https://localhost:8080/"
        },
        "id": "YjV769BPQaGV",
        "outputId": "8fad2134-afbd-4c55-ba24-420fd40f185a"
      },
      "execution_count": 17,
      "outputs": [
        {
          "output_type": "stream",
          "name": "stdout",
          "text": [
            "Requirement already satisfied: google-generativeai in /usr/local/lib/python3.10/dist-packages (0.7.2)\n",
            "Requirement already satisfied: google-ai-generativelanguage==0.6.6 in /usr/local/lib/python3.10/dist-packages (from google-generativeai) (0.6.6)\n",
            "Requirement already satisfied: google-api-core in /usr/local/lib/python3.10/dist-packages (from google-generativeai) (2.19.2)\n",
            "Requirement already satisfied: google-api-python-client in /usr/local/lib/python3.10/dist-packages (from google-generativeai) (2.137.0)\n",
            "Requirement already satisfied: google-auth>=2.15.0 in /usr/local/lib/python3.10/dist-packages (from google-generativeai) (2.27.0)\n",
            "Requirement already satisfied: protobuf in /usr/local/lib/python3.10/dist-packages (from google-generativeai) (3.20.3)\n",
            "Requirement already satisfied: pydantic in /usr/local/lib/python3.10/dist-packages (from google-generativeai) (2.8.2)\n",
            "Requirement already satisfied: tqdm in /usr/local/lib/python3.10/dist-packages (from google-generativeai) (4.66.5)\n",
            "Requirement already satisfied: typing-extensions in /usr/local/lib/python3.10/dist-packages (from google-generativeai) (4.12.2)\n",
            "Requirement already satisfied: proto-plus<2.0.0dev,>=1.22.3 in /usr/local/lib/python3.10/dist-packages (from google-ai-generativelanguage==0.6.6->google-generativeai) (1.24.0)\n",
            "Requirement already satisfied: googleapis-common-protos<2.0.dev0,>=1.56.2 in /usr/local/lib/python3.10/dist-packages (from google-api-core->google-generativeai) (1.65.0)\n",
            "Requirement already satisfied: requests<3.0.0.dev0,>=2.18.0 in /usr/local/lib/python3.10/dist-packages (from google-api-core->google-generativeai) (2.32.3)\n",
            "Requirement already satisfied: cachetools<6.0,>=2.0.0 in /usr/local/lib/python3.10/dist-packages (from google-auth>=2.15.0->google-generativeai) (5.5.0)\n",
            "Requirement already satisfied: pyasn1-modules>=0.2.1 in /usr/local/lib/python3.10/dist-packages (from google-auth>=2.15.0->google-generativeai) (0.4.0)\n",
            "Requirement already satisfied: rsa<5,>=3.1.4 in /usr/local/lib/python3.10/dist-packages (from google-auth>=2.15.0->google-generativeai) (4.9)\n",
            "Requirement already satisfied: httplib2<1.dev0,>=0.19.0 in /usr/local/lib/python3.10/dist-packages (from google-api-python-client->google-generativeai) (0.22.0)\n",
            "Requirement already satisfied: google-auth-httplib2<1.0.0,>=0.2.0 in /usr/local/lib/python3.10/dist-packages (from google-api-python-client->google-generativeai) (0.2.0)\n",
            "Requirement already satisfied: uritemplate<5,>=3.0.1 in /usr/local/lib/python3.10/dist-packages (from google-api-python-client->google-generativeai) (4.1.1)\n",
            "Requirement already satisfied: annotated-types>=0.4.0 in /usr/local/lib/python3.10/dist-packages (from pydantic->google-generativeai) (0.7.0)\n",
            "Requirement already satisfied: pydantic-core==2.20.1 in /usr/local/lib/python3.10/dist-packages (from pydantic->google-generativeai) (2.20.1)\n",
            "Requirement already satisfied: grpcio<2.0dev,>=1.33.2 in /usr/local/lib/python3.10/dist-packages (from google-api-core[grpc]!=2.0.*,!=2.1.*,!=2.10.*,!=2.2.*,!=2.3.*,!=2.4.*,!=2.5.*,!=2.6.*,!=2.7.*,!=2.8.*,!=2.9.*,<3.0.0dev,>=1.34.1->google-ai-generativelanguage==0.6.6->google-generativeai) (1.64.1)\n",
            "Requirement already satisfied: grpcio-status<2.0.dev0,>=1.33.2 in /usr/local/lib/python3.10/dist-packages (from google-api-core[grpc]!=2.0.*,!=2.1.*,!=2.10.*,!=2.2.*,!=2.3.*,!=2.4.*,!=2.5.*,!=2.6.*,!=2.7.*,!=2.8.*,!=2.9.*,<3.0.0dev,>=1.34.1->google-ai-generativelanguage==0.6.6->google-generativeai) (1.48.2)\n",
            "Requirement already satisfied: pyparsing!=3.0.0,!=3.0.1,!=3.0.2,!=3.0.3,<4,>=2.4.2 in /usr/local/lib/python3.10/dist-packages (from httplib2<1.dev0,>=0.19.0->google-api-python-client->google-generativeai) (3.1.4)\n",
            "Requirement already satisfied: pyasn1<0.7.0,>=0.4.6 in /usr/local/lib/python3.10/dist-packages (from pyasn1-modules>=0.2.1->google-auth>=2.15.0->google-generativeai) (0.6.0)\n",
            "Requirement already satisfied: charset-normalizer<4,>=2 in /usr/local/lib/python3.10/dist-packages (from requests<3.0.0.dev0,>=2.18.0->google-api-core->google-generativeai) (3.3.2)\n",
            "Requirement already satisfied: idna<4,>=2.5 in /usr/local/lib/python3.10/dist-packages (from requests<3.0.0.dev0,>=2.18.0->google-api-core->google-generativeai) (3.8)\n",
            "Requirement already satisfied: urllib3<3,>=1.21.1 in /usr/local/lib/python3.10/dist-packages (from requests<3.0.0.dev0,>=2.18.0->google-api-core->google-generativeai) (2.0.7)\n",
            "Requirement already satisfied: certifi>=2017.4.17 in /usr/local/lib/python3.10/dist-packages (from requests<3.0.0.dev0,>=2.18.0->google-api-core->google-generativeai) (2024.8.30)\n"
          ]
        }
      ]
    },
    {
      "cell_type": "code",
      "source": [
        "#\n",
        "%%js\n",
        "function alert() {\n",
        "    console.log(\"Hey all!\");\n",
        "}\n",
        "alert();"
      ],
      "metadata": {
        "colab": {
          "base_uri": "https://localhost:8080/",
          "height": 17
        },
        "id": "rrM2RYsmQ1Wk",
        "outputId": "353b765d-1435-4f1b-b576-17415322902d"
      },
      "execution_count": 26,
      "outputs": [
        {
          "output_type": "display_data",
          "data": {
            "text/plain": [
              "<IPython.core.display.Javascript object>"
            ],
            "application/javascript": [
              "function alert() {\n",
              "    console.log(\"Hey all!\"); \n",
              "}\n",
              "alert();\n"
            ]
          },
          "metadata": {}
        }
      ]
    },
    {
      "cell_type": "code",
      "source": [
        "from IPython.display import HTML, Image\n",
        "from google.colab.output import eval_js\n",
        "from base64 import b64decode\n",
        "\n"
      ],
      "metadata": {
        "id": "Zf3Orc4IR1Sp"
      },
      "execution_count": 27,
      "outputs": []
    },
    {
      "cell_type": "code",
      "source": [
        "VIDEO_HTML = \"\"\"\n",
        "<video autoplay\n",
        " width=800 height=600></video>\n",
        "<script>\n",
        "var video = document.querySelector('video')\n",
        "navigator.mediaDevices.getUserMedia({ video: true })\n",
        "  .then(stream=> video.srcObject = stream)\n",
        "\n",
        "var data = new Promise(resolve=>{\n",
        "  video.onclick = ()=>{\n",
        "    var canvas = document.createElement('canvas')\n",
        "    var [w,h] = [video.offsetWidth, video.offsetHeight]\n",
        "    canvas.width = w\n",
        "    canvas.height = h\n",
        "    canvas.getContext('2d')\n",
        "          .drawImage(video, 0, 0, w, h)\n",
        "    video.srcObject.getVideoTracks()[0].stop()\n",
        "    video.replaceWith(canvas)\n",
        "    resolve(canvas.toDataURL('image/jpeg', %f))\n",
        "  }\n",
        "})\n",
        "</script>\n",
        "\"\"\""
      ],
      "metadata": {
        "id": "AvskGHpmSPNe"
      },
      "execution_count": 28,
      "outputs": []
    },
    {
      "cell_type": "code",
      "source": [
        "def take_photo(filename='photo.jpg', quality=0.8):\n",
        "  display(HTML(VIDEO_HTML % quality))\n",
        "  data = eval_js(\"data\")\n",
        "  binary = b64decode(data.split(',')[1])\n",
        "  with open(filename, 'wb') as f:\n",
        "    f.write(binary)\n",
        "  return len(binary)"
      ],
      "metadata": {
        "id": "Fw2vwCHSSQ1o"
      },
      "execution_count": 29,
      "outputs": []
    },
    {
      "cell_type": "code",
      "source": [
        "take_photo()\n"
      ],
      "metadata": {
        "colab": {
          "base_uri": "https://localhost:8080/",
          "height": 639
        },
        "id": "my2EUNYFSpKa",
        "outputId": "11b5a7d0-6c3e-424c-ed9c-fb811424b553"
      },
      "execution_count": 33,
      "outputs": [
        {
          "output_type": "display_data",
          "data": {
            "text/plain": [
              "<IPython.core.display.HTML object>"
            ],
            "text/html": [
              "\n",
              "<video autoplay\n",
              " width=800 height=600></video>\n",
              "<script>\n",
              "var video = document.querySelector('video')\n",
              "navigator.mediaDevices.getUserMedia({ video: true })\n",
              "  .then(stream=> video.srcObject = stream)\n",
              "  \n",
              "var data = new Promise(resolve=>{\n",
              "  video.onclick = ()=>{\n",
              "    var canvas = document.createElement('canvas')\n",
              "    var [w,h] = [video.offsetWidth, video.offsetHeight]\n",
              "    canvas.width = w\n",
              "    canvas.height = h\n",
              "    canvas.getContext('2d')\n",
              "          .drawImage(video, 0, 0, w, h)\n",
              "    video.srcObject.getVideoTracks()[0].stop()\n",
              "    video.replaceWith(canvas)\n",
              "    resolve(canvas.toDataURL('image/jpeg', 0.800000))\n",
              "  }\n",
              "})\n",
              "</script>\n"
            ]
          },
          "metadata": {}
        },
        {
          "output_type": "execute_result",
          "data": {
            "text/plain": [
              "56665"
            ]
          },
          "metadata": {},
          "execution_count": 33
        }
      ]
    },
    {
      "cell_type": "code",
      "source": [
        "# JS calling Python\n",
        "from IPython.display import JSON\n",
        "import IPython.display as idisplay\n",
        "from google.colab import output\n",
        "\n",
        "def concat(a, b):\n",
        "  return JSON({'result': '%s %s' % (a, b)})\n",
        "\n",
        "output.register_callback('notebook.concat', concat)"
      ],
      "metadata": {
        "id": "RehhlAUzTB1j"
      },
      "execution_count": 34,
      "outputs": []
    },
    {
      "cell_type": "code",
      "source": [
        "idisplay.Javascript('''\n",
        "(async function() {\n",
        "\n",
        "  const result = await google.colab.kernel.invokeFunction(\n",
        "    'notebook.concat',\n",
        "    ['hello', 'world!'],\n",
        "    {});\n",
        "\n",
        "  const text = result.data['application/json'].result;\n",
        "\n",
        "  document.querySelector(\"#output-area\").appendChild(document.createTextNode(text))\n",
        "\n",
        "})();\n",
        "''')"
      ],
      "metadata": {
        "colab": {
          "base_uri": "https://localhost:8080/",
          "height": 34
        },
        "id": "mrg5tv5FTKXK",
        "outputId": "da9f3a3b-10fd-419a-e1a1-b15eee517f0d"
      },
      "execution_count": 35,
      "outputs": [
        {
          "output_type": "execute_result",
          "data": {
            "text/plain": [
              "<IPython.core.display.Javascript object>"
            ],
            "application/javascript": [
              "\n",
              "(async function() {\n",
              "\n",
              "  const result = await google.colab.kernel.invokeFunction(\n",
              "    'notebook.concat',  \n",
              "    ['hello', 'world!'],\n",
              "    {});\n",
              "    \n",
              "  const text = result.data['application/json'].result;\n",
              "  \n",
              "  document.querySelector(\"#output-area\").appendChild(document.createTextNode(text))\n",
              "  \n",
              "})();\n"
            ]
          },
          "metadata": {},
          "execution_count": 35
        }
      ]
    },
    {
      "cell_type": "code",
      "source": [
        "import re\n",
        "from IPython.display import HTML\n",
        "from IPython.core.magic import register_cell_magic"
      ],
      "metadata": {
        "id": "dRYuyG86TVWA"
      },
      "execution_count": 36,
      "outputs": []
    },
    {
      "cell_type": "code",
      "source": [
        "def var_sub(m):\n",
        "  v = globals()[m[1]]\n",
        "  if type(v) != str:\n",
        "    v = repr(v)\n",
        "  return v"
      ],
      "metadata": {
        "id": "HAjxzpweTXVl"
      },
      "execution_count": 37,
      "outputs": []
    },
    {
      "cell_type": "code",
      "source": [
        "@register_cell_magic\n",
        "def javascript(line=\"\", cell=\"\"):\n",
        "  # var sub\n",
        "  cell = re.sub(r'\\{\\{(\\w+)+}}', var_sub, cell)\n",
        "\n",
        "  m = re.match(r'\\w+', line)\n",
        "  if m:                       # assign to a variable\n",
        "    globals()[m[0]] = cell\n",
        "  else:                       # normal display\n",
        "    display(HTML(\"\"\"\n",
        "<div id=\"drawing\"></div>\n",
        "<script src=\"https://cdnjs.cloudflare.com/ajax/libs/svg.js/2.6.5/svg.js\"></script>\n",
        "<script>\n",
        "var draw = SVG('drawing').size('100%', 100)\n",
        "var y_cursor_pos = 0\n",
        "function print(x){\n",
        "  draw.text(x.toString()).move(400, y_cursor_pos)\n",
        "  y_cursor_pos += 20\n",
        "}\n",
        "\n",
        "text = s=> draw.text(s).font('anchor', 'middle')\n",
        "line = (x1,y1, x2,y2)=> draw.line(x1,y1, x2, y2).stroke({width: 1})\n",
        "max = Math.max\n",
        "\"\"\" + cell))"
      ],
      "metadata": {
        "id": "2OeZrprOTZQh"
      },
      "execution_count": 38,
      "outputs": []
    },
    {
      "cell_type": "code",
      "source": [
        "%%javascript\n",
        "\n",
        "draw.rect(100, 100)"
      ],
      "metadata": {
        "colab": {
          "base_uri": "https://localhost:8080/",
          "height": 121
        },
        "id": "9-9IY0DKTb03",
        "outputId": "0a481e79-087d-4842-988e-85f7756ff764"
      },
      "execution_count": 39,
      "outputs": [
        {
          "output_type": "display_data",
          "data": {
            "text/plain": [
              "<IPython.core.display.HTML object>"
            ],
            "text/html": [
              "\n",
              "<div id=\"drawing\"></div>\n",
              "<script src=\"https://cdnjs.cloudflare.com/ajax/libs/svg.js/2.6.5/svg.js\"></script>\n",
              "<script>\n",
              "var draw = SVG('drawing').size('100%', 100)\n",
              "var y_cursor_pos = 0\n",
              "function print(x){\n",
              "  draw.text(x.toString()).move(400, y_cursor_pos)\n",
              "  y_cursor_pos += 20\n",
              "}\n",
              "\n",
              "text = s=> draw.text(s).font('anchor', 'middle')\n",
              "line = (x1,y1, x2,y2)=> draw.line(x1,y1, x2, y2).stroke({width: 1})\n",
              "max = Math.max\n",
              "\n",
              "draw.rect(100, 100)\n"
            ]
          },
          "metadata": {}
        }
      ]
    }
  ]
}