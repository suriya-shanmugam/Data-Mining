{
  "nbformat": 4,
  "nbformat_minor": 0,
  "metadata": {
    "colab": {
      "provenance": [],
      "authorship_tag": "ABX9TyOkNYE3IdDsUz9fo80XhJlz",
      "include_colab_link": true
    },
    "kernelspec": {
      "name": "python3",
      "display_name": "Python 3"
    },
    "language_info": {
      "name": "python"
    }
  },
  "cells": [
    {
      "cell_type": "markdown",
      "metadata": {
        "id": "view-in-github",
        "colab_type": "text"
      },
      "source": [
        "<a href=\"https://colab.research.google.com/github/suriya-shanmugam/Data-Mining/blob/main/Tasks/Todo-1/Assignment-1/Python-Basics/PythonBasics.ipynb\" target=\"_parent\"><img src=\"https://colab.research.google.com/assets/colab-badge.svg\" alt=\"Open In Colab\"/></a>"
      ]
    },
    {
      "cell_type": "code",
      "execution_count": 1,
      "metadata": {
        "colab": {
          "base_uri": "https://localhost:8080/"
        },
        "id": "kWQJiOdw4R05",
        "outputId": "d68d906a-d32f-411d-df0a-80e7e2992f73"
      },
      "outputs": [
        {
          "output_type": "stream",
          "name": "stdout",
          "text": [
            "Hello World!\n",
            "100 + 10 110\n",
            "100 - 10 90\n",
            "100 * 10 1000\n",
            "101 / 10 3.142857142857143\n",
            "101 // 10 10\n",
            "100 % 10 0\n",
            "100 ** 10 100000000000000000000\n"
          ]
        }
      ],
      "source": [
        "print(\"Hello World!\")\n",
        "\n",
        "# Single line Comment\n",
        "\n",
        "''' Multi line Comment\n",
        "Data types: Numbers, Strings, Tuples, Lists, Dictionary\n",
        "'''\n",
        "\n",
        "'''Arithmetic operators: + - * / % ** //\n",
        "'''\n",
        "print(\"100 + 10\", 100+10)\n",
        "print(\"100 - 10\", 100-10)\n",
        "print(\"100 * 10\", 100*10)\n",
        "print(\"101 / 10\", 22/7)\n",
        "print(\"101 // 10\", 101//10)\n",
        "print(\"100 % 10\", 100%10)\n",
        "print(\"100 ** 10\", 100**10)"
      ]
    },
    {
      "cell_type": "code",
      "source": [
        "single_line_quote = \"This is Suriya\"\n",
        "\n",
        "multiline_quote = '''Nice meeting you all\n",
        "here\n",
        "@the Campus\n",
        "'''\n",
        "print(\"%s %s %s\" % (\"Hey EveryOne!\",single_line_quote,multiline_quote))\n",
        "\n",
        "print(\"Suriya\",\"Shanmugam\",1,sep=\"/\")\n",
        "\n",
        "#without the new line\n",
        "print(\"Whattt!\",end=\"\")\n",
        "print(\"Wow!\",end=\"EEEE...\")\n",
        "print(\"This is Amazing\")\n",
        "\n",
        "\n",
        "'''\n",
        "Logical operator: and or not\n",
        "'''"
      ],
      "metadata": {
        "colab": {
          "base_uri": "https://localhost:8080/",
          "height": 143
        },
        "id": "yVNMaisT5u4Y",
        "outputId": "0e8ba308-e13c-489d-f4f7-bd7a39fe40de"
      },
      "execution_count": 2,
      "outputs": [
        {
          "output_type": "stream",
          "name": "stdout",
          "text": [
            "Hey EveryOne! This is Suriya Nice meeting you all\n",
            "here\n",
            "@the Campus\n",
            "\n",
            "Suriya/Shanmugam/1\n",
            "Whattt!Wow!EEEE...This is Amazing\n"
          ]
        },
        {
          "output_type": "execute_result",
          "data": {
            "text/plain": [
              "'\\nLogical operator: and or not\\n'"
            ],
            "application/vnd.google.colaboratory.intrinsic+json": {
              "type": "string"
            }
          },
          "metadata": {},
          "execution_count": 2
        }
      ]
    },
    {
      "cell_type": "code",
      "source": [
        "class Person:\n",
        "    __name = \"\"\n",
        "    __MobileNum = 0\n",
        "\n",
        "    def __init__(self,name,mobile):\n",
        "        self.__name = name\n",
        "        self.__MobileNum = mobile\n",
        "\n",
        "    def getName(self):\n",
        "        return self.__name\n",
        "\n",
        "    def setName(self,name):\n",
        "        self.__name = name\n",
        "\n",
        "    def getMobileNum(self):\n",
        "        return self.__MobileNum\n",
        "\n",
        "    def setMobileNum(self,mobile):\n",
        "        self.__MobileNum = mobile\n",
        "\n",
        "    def toString(self):\n",
        "        return (\"Name is {}. Mobile Number is {}\".format(self.__name,self.__MobileNum))\n",
        "\n",
        "\n",
        "suriya = Person(\"Suriya\",124343)\n",
        "\n",
        "print(suriya.toString())\n",
        "\n",
        "\n",
        "class SJSUStudent(Person) :\n",
        "    __rollNumber = 0\n",
        "\n",
        "    def __init__(self,name,mobile,rollNumber):\n",
        "        self.__rollNumber = rollNumber\n",
        "        super(SJSUStudent,self).__init__(name,mobile)\n",
        "\n",
        "\n",
        "    def toString(self):\n",
        "        return (\"Student name is {}.Roll number is {} Mobile Number is {}\".format(self.getName(),self.__rollNumber,self.getMobileNum()))\n",
        "\n",
        "\n",
        "studentSuriya = SJSUStudent('suriya',1289348,29382983)\n",
        "\n",
        "print(studentSuriya.toString())\n"
      ],
      "metadata": {
        "colab": {
          "base_uri": "https://localhost:8080/"
        },
        "id": "4Tq8kgqp5wO2",
        "outputId": "b1c618cc-809f-4fac-dde6-e1e71fbfa1af"
      },
      "execution_count": 3,
      "outputs": [
        {
          "output_type": "stream",
          "name": "stdout",
          "text": [
            "Name is Suriya. Mobile Number is 124343\n",
            "Student name is suriya.Roll number is 29382983 Mobile Number is 1289348\n"
          ]
        }
      ]
    },
    {
      "cell_type": "code",
      "source": [
        "#function overloading\n",
        "\n",
        "def howMany(count=None):\n",
        "    if count is None :\n",
        "        print(\"None\")\n",
        "        return\n",
        "    elif ( count in [5,10]):\n",
        "        print('Expected number')\n",
        "    else:\n",
        "        print(count)\n",
        "        return\n",
        "\n",
        "howMany()\n",
        "howMany(5)\n",
        "\n",
        "\n",
        "#polymorphism\n",
        "\n",
        "class TypeTest :\n",
        "        def testType(self,Person):\n",
        "            return Person.toString()\n",
        "\n",
        "\n",
        "test = TypeTest()\n",
        "print(test.testType(suriya))\n",
        "print(test.testType(studentSuriya))"
      ],
      "metadata": {
        "colab": {
          "base_uri": "https://localhost:8080/"
        },
        "id": "XSoJW8Dr6RrO",
        "outputId": "fa7a4360-7fd6-44f5-dbf6-8b9e726ffcdd"
      },
      "execution_count": 4,
      "outputs": [
        {
          "output_type": "stream",
          "name": "stdout",
          "text": [
            "None\n",
            "Expected number\n",
            "Name is Suriya. Mobile Number is 124343\n",
            "Student name is suriya.Roll number is 29382983 Mobile Number is 1289348\n"
          ]
        }
      ]
    },
    {
      "cell_type": "code",
      "source": [
        "#Conditionals\n",
        "bmi = 30\n",
        "\n",
        "if(bmi > 0 and bmi <= 18.5):\n",
        "    print(\"You're UW\")\n",
        "elif(bmi > 18.5 and bmi < 25):\n",
        "    print(\"You're HW\")\n",
        "elif(bmi >= 25 and bmi < 30):\n",
        "    print(\"You're OW\")\n",
        "elif(bmi >= 30):\n",
        "    print(\"You're OB\")\n",
        "else:\n",
        "    print(\"Invalid BMI\")\n",
        "\n",
        "#Looping\n",
        "\n",
        "for i in range(0,10):\n",
        "    print(i,\" \",end=\"\")\n",
        "print('End')\n",
        "\n",
        "for item in ['it1','it2','it3']:\n",
        "    print(item)\n",
        "\n",
        "groupList = [[1,2,3],[4,5,6]]\n",
        "\n",
        "for i in range(0,2):\n",
        "    for j in range(0,3):\n",
        "        print(groupList[i][j],\" \",end=\"\")\n",
        "\n",
        "print(groupList[1])\n",
        "\n",
        "for i in range(0,len(groupList)) :\n",
        "    for j in range(0,len(groupList[i])):\n",
        "        print(groupList[i][j],\" \",end=\"\")"
      ],
      "metadata": {
        "colab": {
          "base_uri": "https://localhost:8080/"
        },
        "id": "j_0YC6pt6VlL",
        "outputId": "4d684001-0de2-44be-9e4b-69f7496f580d"
      },
      "execution_count": 5,
      "outputs": [
        {
          "output_type": "stream",
          "name": "stdout",
          "text": [
            "You're OB\n",
            "0  1  2  3  4  5  6  7  8  9  End\n",
            "it1\n",
            "it2\n",
            "it3\n",
            "1  2  3  4  5  6  [4, 5, 6]\n",
            "1  2  3  4  5  6  "
          ]
        }
      ]
    },
    {
      "cell_type": "code",
      "source": [
        "# While Loop\n",
        "\n",
        "import random\n",
        "\n",
        "number = random.randrange(0,20)\n",
        "\n",
        "while (number != 15):\n",
        "    print(number)\n",
        "    number = random.randrange(0,20)\n",
        "\n",
        "\n",
        "# Regular while loop\n",
        "\n",
        "print(\"/n\")\n",
        "i = 0;\n",
        "while (i < len(range(0,100))):\n",
        "\n",
        "    if(i % 2 == 0):\n",
        "        print(\"Even\")\n",
        "    elif (i % 5 == 0):\n",
        "        print(\"Bus\")\n",
        "    elif (i == 50):\n",
        "        print(\"Limit reach\")\n",
        "        break\n",
        "    else :\n",
        "        print (\"Odd\")\n",
        "\n",
        "    i +=1"
      ],
      "metadata": {
        "colab": {
          "base_uri": "https://localhost:8080/"
        },
        "id": "TyittjhG6gKj",
        "outputId": "99bf916c-44f0-4637-8c69-bcdc2dff608f"
      },
      "execution_count": 6,
      "outputs": [
        {
          "output_type": "stream",
          "name": "stdout",
          "text": [
            "5\n",
            "3\n",
            "18\n",
            "/n\n",
            "Even\n",
            "Odd\n",
            "Even\n",
            "Odd\n",
            "Even\n",
            "Bus\n",
            "Even\n",
            "Odd\n",
            "Even\n",
            "Odd\n",
            "Even\n",
            "Odd\n",
            "Even\n",
            "Odd\n",
            "Even\n",
            "Bus\n",
            "Even\n",
            "Odd\n",
            "Even\n",
            "Odd\n",
            "Even\n",
            "Odd\n",
            "Even\n",
            "Odd\n",
            "Even\n",
            "Bus\n",
            "Even\n",
            "Odd\n",
            "Even\n",
            "Odd\n",
            "Even\n",
            "Odd\n",
            "Even\n",
            "Odd\n",
            "Even\n",
            "Bus\n",
            "Even\n",
            "Odd\n",
            "Even\n",
            "Odd\n",
            "Even\n",
            "Odd\n",
            "Even\n",
            "Odd\n",
            "Even\n",
            "Bus\n",
            "Even\n",
            "Odd\n",
            "Even\n",
            "Odd\n",
            "Even\n",
            "Odd\n",
            "Even\n",
            "Odd\n",
            "Even\n",
            "Bus\n",
            "Even\n",
            "Odd\n",
            "Even\n",
            "Odd\n",
            "Even\n",
            "Odd\n",
            "Even\n",
            "Odd\n",
            "Even\n",
            "Bus\n",
            "Even\n",
            "Odd\n",
            "Even\n",
            "Odd\n",
            "Even\n",
            "Odd\n",
            "Even\n",
            "Odd\n",
            "Even\n",
            "Bus\n",
            "Even\n",
            "Odd\n",
            "Even\n",
            "Odd\n",
            "Even\n",
            "Odd\n",
            "Even\n",
            "Odd\n",
            "Even\n",
            "Bus\n",
            "Even\n",
            "Odd\n",
            "Even\n",
            "Odd\n",
            "Even\n",
            "Odd\n",
            "Even\n",
            "Odd\n",
            "Even\n",
            "Bus\n",
            "Even\n",
            "Odd\n",
            "Even\n",
            "Odd\n"
          ]
        }
      ]
    },
    {
      "cell_type": "code",
      "source": [
        "#Dictionaries\n",
        "dictionaryExample = {'101': 'Maths', '102':'Science','103':'Social'}\n",
        "\n",
        "dictionaryExample['104'] = 'Tamil'\n",
        "print(dictionaryExample)\n",
        "print(dictionaryExample.get(\"101\"));\n",
        "\n",
        "keys = dictionaryExample.keys()\n",
        "values = dictionaryExample.values()\n",
        "for i in keys:\n",
        "    print(i)\n",
        "for i in values:\n",
        "    print(i)"
      ],
      "metadata": {
        "colab": {
          "base_uri": "https://localhost:8080/"
        },
        "id": "DxjMm7hk6ntG",
        "outputId": "2b96bd10-95b3-4565-b1c0-e2e144d58cc0"
      },
      "execution_count": 7,
      "outputs": [
        {
          "output_type": "stream",
          "name": "stdout",
          "text": [
            "{'101': 'Maths', '102': 'Science', '103': 'Social', '104': 'Tamil'}\n",
            "Maths\n",
            "101\n",
            "102\n",
            "103\n",
            "104\n",
            "Maths\n",
            "Science\n",
            "Social\n",
            "Tamil\n"
          ]
        }
      ]
    },
    {
      "cell_type": "code",
      "source": [
        "'''\n",
        "modes\n",
        "\n",
        "r - read, error if not exist\n",
        "a - Append - will append to the end of the file, creates if not exist\n",
        "w - Write - will overwrite any existing content, creates if not exist\n",
        "x - create, error if exist\n",
        "\n",
        "t - Text mode\n",
        "b - Binary mode\n",
        "'''\n",
        "\n",
        "\n",
        "newfile = open('plainText.txt','wb')\n",
        "newfile.write(bytes(\"Hey! What's up?\", 'UTF-8'))\n",
        "print(newfile.name)\n",
        "print(newfile.mode)\n",
        "newfile.close()\n",
        "\n",
        "# Read from a file\n",
        "\n",
        "oldfile = open('plainText.txt','r+')\n",
        "textinFile = oldfile.read()\n",
        "print(textinFile)\n",
        "import os\n",
        "print(os.getcwd())\n",
        "\n",
        "\n",
        "os.remove('plainText.txt')\n"
      ],
      "metadata": {
        "colab": {
          "base_uri": "https://localhost:8080/"
        },
        "id": "-EpYTKU56wVd",
        "outputId": "4aa902ca-59a0-4767-83f9-12340cc979ab"
      },
      "execution_count": 14,
      "outputs": [
        {
          "output_type": "stream",
          "name": "stdout",
          "text": [
            "plainText.txt\n",
            "wb\n",
            "Hey! What's up?\n",
            "/content\n"
          ]
        }
      ]
    },
    {
      "cell_type": "code",
      "source": [
        "print(os.getcwd())"
      ],
      "metadata": {
        "colab": {
          "base_uri": "https://localhost:8080/"
        },
        "id": "PAKP3S_F7K_f",
        "outputId": "c66042af-1bf0-457e-d09c-eb31ab8b076b"
      },
      "execution_count": 12,
      "outputs": [
        {
          "output_type": "stream",
          "name": "stdout",
          "text": [
            "/content\n"
          ]
        }
      ]
    },
    {
      "cell_type": "code",
      "source": [
        "#functions\n",
        "def sumofDigits(number):\n",
        "  sum = 0\n",
        "  while (number != 0):\n",
        "    sum += number % 10\n",
        "    number = number // 10\n",
        "\n",
        "  return sum\n",
        "\n",
        "import sys\n",
        "\n",
        "print(\"Enter a Number:\")\n",
        "number = sys.stdin.readline()\n",
        "print(sumofDigits(int(\"500\")))"
      ],
      "metadata": {
        "colab": {
          "base_uri": "https://localhost:8080/"
        },
        "id": "cloVRHTM7af9",
        "outputId": "b65aed8d-58c3-41b7-b375-4b0914e5c85d"
      },
      "execution_count": 16,
      "outputs": [
        {
          "output_type": "stream",
          "name": "stdout",
          "text": [
            "Enter a Number:\n",
            "5\n"
          ]
        }
      ]
    },
    {
      "cell_type": "code",
      "source": [
        "# Strings\n",
        "\n",
        "stringSample = \"hello spartans! Reach out to SJSU cares\"\n",
        "\n",
        "print(stringSample)\n",
        "\n",
        "print(stringSample[6:15])\n",
        "print(stringSample[-5:])\n",
        "print(stringSample[:-5])\n",
        "print(stringSample[-5:]+ \" all!\")\n",
        "\n",
        "print(stringSample.capitalize())\n",
        "print(len(stringSample))\n",
        "print(stringSample.find('cares'))\n",
        "print(stringSample[0:5].isalpha())\n",
        "print(stringSample.isalnum())\n",
        "print(stringSample.replace('hello','Hello'))\n",
        "print(stringSample)\n",
        "\n",
        "stringList = stringSample.split(\" \")\n",
        "print(stringList)\n",
        "\n",
        "\n",
        "stringSample2  = '   hello spartans!     Reach out to SJSU cares     '\n",
        "\n",
        "print(stringSample2.strip())"
      ],
      "metadata": {
        "colab": {
          "base_uri": "https://localhost:8080/"
        },
        "id": "GXG6Cnqi70HO",
        "outputId": "86a124b2-bd60-4eca-c0e3-2b3185db0a47"
      },
      "execution_count": 17,
      "outputs": [
        {
          "output_type": "stream",
          "name": "stdout",
          "text": [
            "hello spartans! Reach out to SJSU cares\n",
            "spartans!\n",
            "cares\n",
            "hello spartans! Reach out to SJSU \n",
            "cares all!\n",
            "Hello spartans! reach out to sjsu cares\n",
            "39\n",
            "34\n",
            "True\n",
            "False\n",
            "Hello spartans! Reach out to SJSU cares\n",
            "hello spartans! Reach out to SJSU cares\n",
            "['hello', 'spartans!', 'Reach', 'out', 'to', 'SJSU', 'cares']\n",
            "hello spartans!     Reach out to SJSU cares\n"
          ]
        }
      ]
    },
    {
      "cell_type": "code",
      "source": [
        "studentList = ['Suriya Shanmugam', 'Prajwal','Tharun','Jesu','Gautham']\n",
        "\n",
        "studentList[0] = 'Suriya'\n",
        "\n",
        "print(studentList)\n",
        "print(studentList[1:3])\n",
        "\n",
        "studentList2 = ['Vimal','Poorna']\n",
        "\n",
        "# create List of Lists\n",
        "joinList = [studentList,studentList2]\n",
        "\n",
        "print(joinList)\n",
        "\n",
        "studentList2.insert(0,'Deepak')\n",
        "print(joinList[1][0])\n",
        "del studentList2[1]\n",
        "\n",
        "#combineList\n",
        "\n",
        "combineList = studentList + studentList2\n",
        "\n",
        "print(combineList)\n",
        "print(len(combineList))\n",
        "\n",
        "print(max(combineList)) #alphabetically high since Strings\n",
        "print(min(combineList)) #alphabetically low\n",
        "\n",
        "\n",
        "\n",
        "#Tuple\n",
        "\n",
        "aTuple = ('ESP','DM','EDS')\n",
        "#To modify change this to list\n",
        "toList = list(aTuple)\n",
        "toList.append('ML')\n",
        "newTuple = tuple(toList)\n",
        "print(newTuple)"
      ],
      "metadata": {
        "colab": {
          "base_uri": "https://localhost:8080/"
        },
        "id": "pkKdFlK677nN",
        "outputId": "ee878f75-ae61-4081-b4a7-c2213affb63d"
      },
      "execution_count": 18,
      "outputs": [
        {
          "output_type": "stream",
          "name": "stdout",
          "text": [
            "['Suriya', 'Prajwal', 'Tharun', 'Jesu', 'Gautham']\n",
            "['Prajwal', 'Tharun']\n",
            "[['Suriya', 'Prajwal', 'Tharun', 'Jesu', 'Gautham'], ['Vimal', 'Poorna']]\n",
            "Deepak\n",
            "['Suriya', 'Prajwal', 'Tharun', 'Jesu', 'Gautham', 'Deepak', 'Poorna']\n",
            "7\n",
            "Tharun\n",
            "Deepak\n",
            "('ESP', 'DM', 'EDS', 'ML')\n"
          ]
        }
      ]
    }
  ]
}